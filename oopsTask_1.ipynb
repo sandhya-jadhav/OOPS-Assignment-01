{
 "cells": [
  {
   "cell_type": "markdown",
   "id": "9373322b-d137-4eee-9804-7074a55dd491",
   "metadata": {},
   "source": [
    "#### Q1, Create a vehicle class with an init method having instance variables as name_of_vehicle, max_speed and average_of_vehicle."
   ]
  },
  {
   "cell_type": "code",
   "execution_count": 4,
   "id": "f11d4204-bf63-4207-bf43-f37482795abd",
   "metadata": {},
   "outputs": [],
   "source": [
    "class Vehicle:\n",
    "    def __init__(self,name_of_vehicle, max_speed, average_of_vehicle):\n",
    "        self.name_of_vehicle = name_of_vehicle\n",
    "        self.max_speed = max_speed\n",
    "        self.average_of_vehicle = average_of_vehicle"
   ]
  },
  {
   "cell_type": "markdown",
   "id": "14b68b55-4abb-4dad-8440-96ed65435d6a",
   "metadata": {},
   "source": [
    "#### Q2. Create a child class car from the vehicle class created in Que 1, which will inherit the vehicle class. Create a method named seating_capacity which takes capacity as an argument and returns the name of the vehicle and its seating capacity."
   ]
  },
  {
   "cell_type": "code",
   "execution_count": 5,
   "id": "93d8a0db-71b3-4507-a61d-f65ea52fc988",
   "metadata": {},
   "outputs": [],
   "source": [
    "class Vehicle:\n",
    "    def __init__(self,name_of_vehicle, max_speed, average_of_vehicle):\n",
    "        self.name_of_vehicle = name_of_vehicle\n",
    "        self.max_speed = max_speed\n",
    "        self.average_of_vehicle = average_of_vehicle\n",
    "    \n",
    "    def vehicle_info(self):\n",
    "        return(self.name_of_vehicle, self.max_speed, self.average_of_vehicle)\n",
    "    \n",
    "    \n",
    "class Car(Vehicle):\n",
    "    def seating_capacity(self, capacity):\n",
    "        return f\"The {self.name_of_vehicle} passenger capacity is{capacity}\"\n",
    "    \n",
    "        "
   ]
  },
  {
   "cell_type": "markdown",
   "id": "5e5501b9-d0a5-4698-9876-89c5748037e5",
   "metadata": {},
   "source": [
    "#### Q3. What is multiple inheritance? Write a python code to demonstrate multiple inheritance."
   ]
  },
  {
   "cell_type": "markdown",
   "id": "3f645af5-c1b6-4dbd-b55e-f5df8606f733",
   "metadata": {},
   "source": [
    "##### When a class is derived from more than one base class it is called multiple Inheritance. The derived class inherits all the features of the base case.\n"
   ]
  },
  {
   "cell_type": "code",
   "execution_count": 6,
   "id": "e1ca1608-cdc3-4d08-861f-2f7ac55266ad",
   "metadata": {},
   "outputs": [],
   "source": [
    "class Animal:\n",
    "    def __init__(self, name):\n",
    "        self.name = name\n",
    "\n",
    "    def speak(self):\n",
    "        print(f\"{self.name} makes a sound.\")\n",
    "\n",
    "class Dog(Animal):\n",
    "    def speak(self):\n",
    "        print(f\"{self.name} says woof!\")\n"
   ]
  },
  {
   "cell_type": "markdown",
   "id": "220166a1-8685-43e5-8aa8-38bef6a2f63e",
   "metadata": {},
   "source": [
    "#### Q4. What are getter and setter in python? Create a class and create a getter and a setter method in this class."
   ]
  },
  {
   "cell_type": "markdown",
   "id": "8759df2a-ee44-4a03-9687-e49c5f8a1c00",
   "metadata": {},
   "source": [
    "##### In Python, getters and setters are not the same as those in other object-oriented programming languages. Basically, the main purpose of using getters and setters in object-oriented programs is to ensure data encapsulation. Private variables in python are not actually hidden fields like in other object oriented languages."
   ]
  },
  {
   "cell_type": "code",
   "execution_count": 7,
   "id": "50721c0d-17bb-4dd1-a22e-20971083ac53",
   "metadata": {},
   "outputs": [],
   "source": [
    "class Student: \n",
    "    def __init__(self, age = 0): \n",
    "         self._age = age \n",
    "      \n",
    "    # getter \n",
    "    def get_age(self): \n",
    "        return self._age \n",
    "      \n",
    "    # setter \n",
    "    def set_age(self, x): \n",
    "        self._age = x \n",
    "\n",
    "  \n",
    "\n"
   ]
  },
  {
   "cell_type": "markdown",
   "id": "3c9a376c-6534-42f4-9768-62aee9767972",
   "metadata": {},
   "source": [
    "#### Q5.What is method overriding in python? Write a python code to demonstrate method overriding."
   ]
  },
  {
   "cell_type": "markdown",
   "id": "fdc0c450-76d6-4361-94be-1c63a8decf05",
   "metadata": {},
   "source": [
    "##### Method overriding is an ability of any object-oriented programming language that allows a subclass or child class to provide a specific implementation of a method that is already provided by one of its super-classes or parent classes. When a method in a subclass has the same name, the same parameters or signature, and same return type(or sub-type) as a method in its super-class, then the method in the subclass is said to override the method in the super-class."
   ]
  },
  {
   "cell_type": "code",
   "execution_count": 8,
   "id": "aefd4553-db39-42c5-a9ce-80147dcf49c6",
   "metadata": {},
   "outputs": [],
   "source": [
    "class Parent(): \n",
    "    \n",
    "    # Constructor \n",
    "    def __init__(self): \n",
    "        self.value = \"Inside Parent\"\n",
    "        \n",
    "    # Parent's show method \n",
    "    def show(self): \n",
    "        print(self.value) \n",
    "        \n",
    "# Defining child class \n",
    "class Child(Parent): \n",
    "    \n",
    "    # Constructor \n",
    "    def __init__(self): \n",
    "        super().__init__()  # Call parent constructor\n",
    "        self.value = \"Inside Child\"\n",
    "        \n",
    "    # Child's show method \n",
    "    def show(self): \n",
    "        print(self.value) \n"
   ]
  },
  {
   "cell_type": "code",
   "execution_count": null,
   "id": "187eec9a-99b3-471c-9bfc-19538142e9da",
   "metadata": {},
   "outputs": [],
   "source": []
  }
 ],
 "metadata": {
  "kernelspec": {
   "display_name": "Python 3 (ipykernel)",
   "language": "python",
   "name": "python3"
  },
  "language_info": {
   "codemirror_mode": {
    "name": "ipython",
    "version": 3
   },
   "file_extension": ".py",
   "mimetype": "text/x-python",
   "name": "python",
   "nbconvert_exporter": "python",
   "pygments_lexer": "ipython3",
   "version": "3.10.8"
  }
 },
 "nbformat": 4,
 "nbformat_minor": 5
}
